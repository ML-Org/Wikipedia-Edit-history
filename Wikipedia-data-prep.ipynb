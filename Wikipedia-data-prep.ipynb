{
 "cells": [
  {
   "cell_type": "code",
   "execution_count": 1,
   "metadata": {},
   "outputs": [],
   "source": [
    "import networkx as nx\n",
    "import json\n",
    "import requests\n",
    "from networkx.readwrite import json_graph\n",
    "import matplotlib.pyplot as plt\n",
    "%matplotlib inline"
   ]
  },
  {
   "cell_type": "markdown",
   "metadata": {},
   "source": [
    " - These files are downloaded from the wikipedia api\n",
    "\n",
    " - https://en.wikipedia.org/w/api.php?format=json&list=allrevisions&arvprop=ids%7Ctimestamp%7Cflags%7Ccomment%7Cuser&arvlimit=500&arvdir=newer&action=query"
   ]
  },
  {
   "cell_type": "code",
   "execution_count": 51,
   "metadata": {},
   "outputs": [],
   "source": [
    "files = [\n",
    "    \"revision1.json\",\n",
    "    \"revision-2.json\",\n",
    "    \"revision-3.json\",\n",
    "    \"revision-4.json\",\n",
    "    \"revision-5.json\",\n",
    "]"
   ]
  },
  {
   "cell_type": "code",
   "execution_count": 32,
   "metadata": {},
   "outputs": [],
   "source": [
    "graph = nx.DiGraph()\n",
    "users = []\n",
    "records=[]"
   ]
  },
  {
   "cell_type": "code",
   "execution_count": 36,
   "metadata": {},
   "outputs": [],
   "source": [
    "with open(files[0]) as fd:\n",
    "    data = json.loads(fd.read())\n",
    "records = data[\"query\"][\"allrevisions\"]"
   ]
  },
  {
   "cell_type": "code",
   "execution_count": 37,
   "metadata": {},
   "outputs": [],
   "source": [
    "for record in records:\n",
    "    revisions = record[\"revisions\"]\n",
    "    for revision in revisions:\n",
    "        users.append(revision[\"user\"])"
   ]
  },
  {
   "cell_type": "code",
   "execution_count": 38,
   "metadata": {},
   "outputs": [
    {
     "data": {
      "text/plain": [
       "71"
      ]
     },
     "execution_count": 38,
     "metadata": {},
     "output_type": "execute_result"
    }
   ],
   "source": [
    "user_list = list(set(users))\n",
    "len(user_list)"
   ]
  },
  {
   "cell_type": "code",
   "execution_count": 39,
   "metadata": {},
   "outputs": [],
   "source": [
    "url = \"https://en.wikipedia.org/w/api.php?\\\n",
    "action=query&format=json&list=allrevisions&arvprop=ids%7Ctimestamp%7Cflags%7Ccomment%7Cuser\\\n",
    "&arvlimit=500&arvdir=newer&arvnamespace=0&arvuser={}\"\n",
    "\n",
    "cat_url = \"https://en.wikipedia.org/w/api.php?action=query&prop=categories&pageids={}&format=json\""
   ]
  },
  {
   "cell_type": "code",
   "execution_count": 41,
   "metadata": {},
   "outputs": [],
   "source": [
    "revisions_per_user = []\n",
    "s=requests.Session()\n",
    "for user in user_list:\n",
    "    response = s.get(url.format(user))\n",
    "    with response as r:\n",
    "        content = r.json()\n",
    "        for i in content[\"query\"][\"allrevisions\"]:\n",
    "            # print(i[\"pageid\"])\n",
    "            # print(requests.get(cat_url.format(i[\"pageid\"])).json())\n",
    "            try:\n",
    "                response = s.get(cat_url.format(i[\"pageid\"])).json()\n",
    "                i[\"categories\"] = [\n",
    "                    record[\"title\"].split(\":\")[1]\n",
    "                    for record in response[\"query\"][\"pages\"][str(i[\"pageid\"])][\n",
    "                        \"categories\"\n",
    "                    ]\n",
    "                ]\n",
    "            except KeyError as e:\n",
    "                # print(\"error\" + str(e))\n",
    "                i[\"categories\"] = []\n",
    "                # print( response[\"query\"][\"pages\"][str(i[\"pageid\"])])\n",
    "            #             content[\"query\"][\"allrevisions\"][\"categories\"]=[record[\"title\"].split(\":\")[1] for record in requests.get(cat_url.format(i[\"pageid\"])).json()[\"query\"][\"pages\"][i[\"pageid\"]][\"categories\"]]\n",
    "        revisions_per_user.append({user: content[\"query\"][\"allrevisions\"]})"
   ]
  },
  {
   "cell_type": "code",
   "execution_count": 42,
   "metadata": {},
   "outputs": [],
   "source": [
    "with open(\"rev-wikipedia.json\", \"w+\") as fd:\n",
    "    fd.write(json.dumps(revisions_per_user))"
   ]
  },
  {
   "cell_type": "code",
   "execution_count": 43,
   "metadata": {},
   "outputs": [
    {
     "data": {
      "text/plain": [
       "'Dhcp058.246.lvcm.com'"
      ]
     },
     "execution_count": 43,
     "metadata": {},
     "output_type": "execute_result"
    }
   ],
   "source": [
    "# transalte usernames to corresponding id's for node2vec\n",
    "translation_rules = {user: _id for _id, user in enumerate(user_list, start=1)}\n",
    "translation_rules\n",
    "translation_rules[\"Dhcp058.246.lvcm.com\"]\n",
    "\n",
    "\n",
    "def translate(word, rules={}):\n",
    "    try:\n",
    "        transalted_val = rules[word]\n",
    "    except KeyError as error:\n",
    "        transalted_val = word\n",
    "        pass\n",
    "    return transalted_val\n",
    "\n",
    "\n",
    "\n",
    "translation_rules={}\n",
    "translate(\"Dhcp058.246.lvcm.com\", translation_rules)"
   ]
  },
  {
   "cell_type": "code",
   "execution_count": 44,
   "metadata": {},
   "outputs": [],
   "source": [
    "def add_nodes(user_list, attrs):\n",
    "    for _idx, user in enumerate(user_list, start=1):\n",
    "        # graph.add_node(_idx, name=user , **attrs)\n",
    "        # graph.add_node(translate(user, translation_rules), name=user , **attrs)\n",
    "        graph.add_node(user, name=user, **attrs)\n",
    "    return graph"
   ]
  },
  {
   "cell_type": "code",
   "execution_count": 45,
   "metadata": {},
   "outputs": [
    {
     "name": "stdout",
     "output_type": "stream",
     "text": [
      "0.4862314456406176\n",
      "0.4862314456406176\n"
     ]
    }
   ],
   "source": [
    "import random\n",
    "def my_hash(arr):\n",
    "    _hash=0;\n",
    "    for i in arr:\n",
    "        _hash+=hash(i)\n",
    "    random.seed(_hash)\n",
    "    return random.random()\n",
    "print(my_hash([\"a\", \"b\", \"pD950D145.dip.t-dialin.net\"]))\n",
    "print(my_hash([\"pD950D145.dip.t-dialin.net\", \"a\", \"b\"]))"
   ]
  },
  {
   "cell_type": "code",
   "execution_count": 46,
   "metadata": {},
   "outputs": [
    {
     "name": "stdout",
     "output_type": "stream",
     "text": [
      "379849224\n",
      "GaythaLanglois ---> 379849224\n",
      "294282\n",
      "GaythaLanglois ---> 294282\n",
      "294283\n",
      "294282 ---> 294283\n"
     ]
    }
   ],
   "source": [
    "# text = \"\"\n",
    "for rev in revisions_per_user:\n",
    "    #     count = len(graph.nodes())+1\n",
    "    for user_node_id, user in enumerate(user_list, start=1):\n",
    "        revisions = rev.get(user)\n",
    "        if revisions is not None:\n",
    "            for revision in revisions:\n",
    "                doc_id = revision[\"pageid\"]\n",
    "                doc_title = revision[\"title\"]\n",
    "                # text += \"\"+str(user)+\" : \"+str(len(revision[\"revisions\"]))+\"\\n\"\n",
    "                parent_id = \"\"\n",
    "                for _idx, doc in enumerate(revision[\"revisions\"], start=1):\n",
    "                    # graph.add_node(count, revision_id=doc[\"revid\"], doc_id=doc_id, doc_title=doc_title)\n",
    "                    # print(revision[\"categories\"])\n",
    "                    graph.add_node(\n",
    "                        doc[\"revid\"],\n",
    "                        revision_id=doc[\"revid\"],\n",
    "                        doc_id=doc_id,\n",
    "                        doc_title=doc_title,\n",
    "                        group=my_hash(revision[\"categories\"]),\n",
    "                    )\n",
    "                    if parent_id != doc[\"parentid\"]:\n",
    "                        # graph.add_edge(count, user_node_id, user_id=user, revision_id=doc[\"revid\"], relation=\"wasAssociatedWith\")\n",
    "                        #print(\"source\", user)\n",
    "                        #print(user)\n",
    "                        graph.add_edge(user,doc[\"revid\"],user_id=user,revision_id=doc[\"revid\"],relation=\"wasAssociatedWith\",group=\"wasAssociatedWith\")\n",
    "                        #print(user, translate(user, translation_rules))\n",
    "                        parent_id = doc[\"revid\"]\n",
    "                        if user == \"GaythaLanglois\":\n",
    "                            print(doc[\"revid\"])\n",
    "                            print(user, \"--->\", doc[\"revid\"])\n",
    "                    else:\n",
    "                        # graph.add_edge(count-1, count, parent_id=doc[\"parentid\"], revision_id=doc[\"revid\"], relation=\"wasDerviedFrom\")\n",
    "                        graph.add_edge(\n",
    "                            doc[\"parentid\"],\n",
    "                            doc[\"revid\"],\n",
    "                            parent_id=doc[\"parentid\"],\n",
    "                            revision_id=doc[\"revid\"],\n",
    "                            relation=\"wasDerviedFrom\",\n",
    "                            group=\"wasDerviedFrom\",\n",
    "                        )\n",
    "                        parent_id = doc[\"revid\"]\n",
    "                        if user == \"GaythaLanglois\":\n",
    "                            print(doc[\"revid\"])\n",
    "                            print(doc[\"parentid\"], \"--->\", doc[\"revid\"])\n",
    "#                     count +=1\n",
    "# print(text)\n",
    "# with open(\"users.txt\",\"w+\") as fd:\n",
    "#                         fd.write(text)\n",
    "#print(translation_rules)"
   ]
  },
  {
   "cell_type": "code",
   "execution_count": 47,
   "metadata": {},
   "outputs": [],
   "source": [
    "import json\n",
    "\n",
    "from networkx.readwrite import json_graph"
   ]
  },
  {
   "cell_type": "code",
   "execution_count": 48,
   "metadata": {},
   "outputs": [],
   "source": [
    "with open(\"graph-wikipedia.json\", \"w+\") as fd:\n",
    "    fd.write(json.dumps(json_graph.node_link_data(graph)))"
   ]
  },
  {
   "cell_type": "code",
   "execution_count": 49,
   "metadata": {},
   "outputs": [],
   "source": [
    "nx.write_yaml(graph, \"graph-wikipedia.yaml\")\n",
    "!code graph-wikipedia.yaml"
   ]
  },
  {
   "cell_type": "code",
   "execution_count": 50,
   "metadata": {},
   "outputs": [],
   "source": [
    "nx.write_edgelist(graph, \"wiki-edgelist\")"
   ]
  },
  {
   "cell_type": "code",
   "execution_count": null,
   "metadata": {},
   "outputs": [],
   "source": []
  },
  {
   "cell_type": "code",
   "execution_count": null,
   "metadata": {},
   "outputs": [],
   "source": []
  },
  {
   "cell_type": "code",
   "execution_count": null,
   "metadata": {},
   "outputs": [],
   "source": []
  },
  {
   "cell_type": "code",
   "execution_count": null,
   "metadata": {},
   "outputs": [],
   "source": []
  },
  {
   "cell_type": "code",
   "execution_count": null,
   "metadata": {},
   "outputs": [],
   "source": []
  },
  {
   "cell_type": "code",
   "execution_count": null,
   "metadata": {},
   "outputs": [],
   "source": []
  },
  {
   "cell_type": "code",
   "execution_count": null,
   "metadata": {},
   "outputs": [],
   "source": []
  },
  {
   "cell_type": "code",
   "execution_count": null,
   "metadata": {},
   "outputs": [],
   "source": []
  },
  {
   "cell_type": "code",
   "execution_count": null,
   "metadata": {},
   "outputs": [],
   "source": []
  },
  {
   "cell_type": "code",
   "execution_count": null,
   "metadata": {},
   "outputs": [],
   "source": []
  },
  {
   "cell_type": "code",
   "execution_count": null,
   "metadata": {},
   "outputs": [],
   "source": []
  },
  {
   "cell_type": "code",
   "execution_count": null,
   "metadata": {},
   "outputs": [],
   "source": []
  },
  {
   "cell_type": "code",
   "execution_count": null,
   "metadata": {},
   "outputs": [],
   "source": []
  }
 ],
 "metadata": {
  "kernelspec": {
   "display_name": "Python 3",
   "language": "python",
   "name": "python3"
  },
  "language_info": {
   "codemirror_mode": {
    "name": "ipython",
    "version": 3
   },
   "file_extension": ".py",
   "mimetype": "text/x-python",
   "name": "python",
   "nbconvert_exporter": "python",
   "pygments_lexer": "ipython3",
   "version": "3.7.1"
  }
 },
 "nbformat": 4,
 "nbformat_minor": 2
}
